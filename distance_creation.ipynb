{
 "cells": [
  {
   "cell_type": "code",
   "execution_count": 53,
   "outputs": [],
   "source": [
    "from scapy.all import rdpcap\n",
    "import pandas as pd"
   ],
   "metadata": {
    "collapsed": false,
    "ExecuteTime": {
     "end_time": "2023-08-04T22:19:33.442316900Z",
     "start_time": "2023-08-04T22:19:33.023292400Z"
    }
   }
  },
  {
   "cell_type": "code",
   "execution_count": 54,
   "outputs": [],
   "source": [
    "packets = rdpcap('second_try.pcap')"
   ],
   "metadata": {
    "collapsed": false,
    "ExecuteTime": {
     "end_time": "2023-08-04T22:19:51.228570800Z",
     "start_time": "2023-08-04T22:19:51.114163800Z"
    }
   }
  },
  {
   "cell_type": "code",
   "execution_count": 80,
   "outputs": [
    {
     "data": {
      "text/plain": "<RadioTap  version=0 pad=0 len=48 present=TSFT+Flags+Rate+Channel+dBm_AntSignal+RXFlags+A_MPDU+RadiotapNS+Ext Ext=[<RadioTapExtendedPresenceMask  present=b5+b11+b29+Ext |>, <RadioTapExtendedPresenceMask  present=b37+b43 |>] mac_timestamp=762049766 Flags= Rate=1.0 Mbps ChannelFrequency=2457 ChannelFlags=CCK+2GHz dBm_AntSignal=-87 dBm RXFlags= A_MPDU_ref=8828568 A_MPDU_flags=KnownLastSubframe+LastSubframe notdecoded='\\\\xa9\\x00\\\\xa5\\x01' |<Dot11  subtype=Probe Request type=Management proto=0 FCfield= ID=0 addr1=ff:ff:ff:ff:ff:ff (RA=DA) addr2=a4:97:b1:8b:c6:45 (TA=SA) addr3=ff:ff:ff:ff:ff:ff (BSSID/STA) SC=5760 |<Dot11ProbeReq  |<Dot11Elt  ID=SSID len=14 info='VDM-CORPORATIF' |<Dot11EltRates  ID=Supported Rates len=4 rates=[1.0 Mbps, 2.0 Mbps, 5.5 Mbps, 11.0 Mbps] |<Dot11EltRates  ID=Extended Supported Rates len=8 rates=[6.0 Mbps, 9.0 Mbps, 12.0 Mbps, 18.0 Mbps, 24.0 Mbps, 36.0 Mbps, 48.0 Mbps, 54.0 Mbps] |<Dot11EltHTCapabilities  ID=HT Capabilities len=26 L_SIG_TXOP_Protection=0 Forty_Mhz_Intolerant=0 PSMP=0 DSSS_CCK=0 Max_A_MSDU=7935 o Delayed_BlockAck=0 Rx_STBC=1 Tx_STBC=1 Short_GI_40Mhz=0 Short_GI_20Mhz=1 Green_Field=0 SM_Power_Save=disabled Supported_Channel_Width=20Mhz LDPC_Coding_Capability=1 res1=0 Min_MPDCU_Start_Spacing=6 Max_A_MPDU_Length_Exponent=3 res2=4 TX_Unequal_Modulation=0 TX_Max_Spatial_Streams=0 TX_RX_MCS_Set_Not_Equal=0 TX_MCS_Set_Defined=0 res3=0 RX_Highest_Supported_Data_Rate=0 res4=0 RX_MSC_Bitmask=65535 res5=0 RD_Responder=0 HTC_HT_Support=0 MCS_Feedback=0 res6=0 PCO_Transition_Time=0 PCO=0 res7=0 Channel_Estimation_Capability=0 CSI_max_n_Rows_Beamformer_Supported=0 Compressed_Steering_n_Beamformer_Antennas_Supported=0 Noncompressed_Steering_n_Beamformer_Antennas_Supported=0 CSI_n_Beamformer_Antennas_Supported=0 Minimal_Grouping=0 Explicit_Compressed_Beamforming_Feedback=0 Explicit_Noncompressed_Beamforming_Feedback=0 Explicit_Transmit_Beamforming_CSI_Feedback=0 Explicit_Compressed_Steering=0 Explicit_Noncompressed_Steering=0 Explicit_CSI_Transmit_Beamforming=0 Calibration=0 Implicit_Trasmit_Beamforming=0 Transmit_NDP=0 Receive_NDP=0 Transmit_Staggered_Sounding=0 Receive_Staggered_Sounding=0 Implicit_Transmit_Beamforming_Receiving=0 ASEL= |<Dot11Elt  ID=Extendend Capabilities len=8 info='\\x00\\x00\\x08\\x00\\x00\\x00\\x00\\x00' |<Dot11EltVendorSpecific  ID=Vendor Specific len=7 oui=Wi-Fi Alliance (50:6f:9a) info='\\x16\\x03\\x01\\x03' |>>>>>>>>>"
     },
     "execution_count": 80,
     "metadata": {},
     "output_type": "execute_result"
    }
   ],
   "source": [
    "packets[0]"
   ],
   "metadata": {
    "collapsed": false,
    "ExecuteTime": {
     "end_time": "2023-08-04T22:32:45.216640700Z",
     "start_time": "2023-08-04T22:32:45.185367300Z"
    }
   }
  },
  {
   "cell_type": "code",
   "execution_count": 58,
   "outputs": [
    {
     "name": "stdout",
     "output_type": "stream",
     "text": [
      "RadioTap / 802.11 Management Probe Request a4:97:b1:8b:c6:45 (TA=SA) > ff:ff:ff:ff:ff:ff (RA=DA) / Dot11ProbeReq / SSID='VDM-CORPORATIF' / Dot11EltRates / Dot11EltRates / Dot11EltHTCapabilities / Dot11Elt / Dot11EltVendorSpecific\n"
     ]
    }
   ],
   "source": [
    "for packet in packets:\n",
    "    print(packet)\n",
    "    break"
   ],
   "metadata": {
    "collapsed": false,
    "ExecuteTime": {
     "end_time": "2023-08-04T22:22:11.782135800Z",
     "start_time": "2023-08-04T22:22:11.735237800Z"
    }
   }
  },
  {
   "cell_type": "code",
   "execution_count": 57,
   "outputs": [
    {
     "data": {
      "text/plain": "41"
     },
     "execution_count": 57,
     "metadata": {},
     "output_type": "execute_result"
    }
   ],
   "source": [
    "len(packets)"
   ],
   "metadata": {
    "collapsed": false,
    "ExecuteTime": {
     "end_time": "2023-08-04T22:21:29.925227600Z",
     "start_time": "2023-08-04T22:21:29.893954Z"
    }
   }
  },
  {
   "cell_type": "code",
   "execution_count": 83,
   "outputs": [],
   "source": [
    "data = {\n",
    "    'Timestamp': [packet.time - packets[0].time for packet in packets],\n",
    "    'MAC addr': [packet.addr2 for packet in packets],\n",
    "    'Sequence Number': [packet.SC for packet in packets],\n",
    "    'Signal Strength': [packet.dBm_AntSignal for packet in packets]\n",
    "}"
   ],
   "metadata": {
    "collapsed": false,
    "ExecuteTime": {
     "end_time": "2023-08-05T19:28:20.803067700Z",
     "start_time": "2023-08-05T19:28:20.793642Z"
    }
   }
  },
  {
   "cell_type": "code",
   "execution_count": 84,
   "outputs": [],
   "source": [
    "df = pd.DataFrame(data)"
   ],
   "metadata": {
    "collapsed": false,
    "ExecuteTime": {
     "end_time": "2023-08-05T19:28:21.869386700Z",
     "start_time": "2023-08-05T19:28:21.852490600Z"
    }
   }
  },
  {
   "cell_type": "code",
   "execution_count": 85,
   "outputs": [
    {
     "data": {
      "text/plain": "    Timestamp           MAC addr  Sequence Number  Signal Strength\n0    0.000000  a4:97:b1:8b:c6:45             5760              -87\n1    0.202759  78:ac:c0:86:92:5e            24352              -60\n2    0.311478  78:ac:c0:86:92:5e            24368              -58\n3    0.420198  78:ac:c0:86:92:5e            24384              -66\n4    1.431418  d6:da:ab:cb:be:c6            37392              -78\n5    1.554295  d6:da:ab:cb:be:c6            37536              -78\n6    4.137896  38:d5:7a:af:88:97            43712              -83\n7    6.036037  d4:1b:81:82:e9:29            15472              -81\n8    6.287567  70:77:81:a2:fe:3a            35072              -79\n9    6.296415  70:77:81:a2:fe:3a            35104              -73\n10   7.373729  f8:38:69:a8:a8:43            24624              -81\n11   8.974229  30:03:c8:6a:30:2d            48720              -81\n12   8.977058  30:03:c8:6a:30:2d            48768              -81\n13   9.222828  34:2e:b7:9c:54:7d            60816              -74\n14   9.381490  78:ac:c0:86:92:5e            25936              -59\n15  10.340744  50:84:92:93:d2:44            16784              -85\n16  12.937848  a6:6d:fb:24:fa:65            20704              -78\n17  13.995433  f8:38:69:a8:a8:43            25216              -73\n18  14.160186  f8:38:69:a8:a8:43            25280              -74\n19  15.002356  70:77:81:a2:fe:3a            38032              -74\n20  16.008847  64:6c:80:17:44:eb             2528              -82\n21  17.943597  96:ee:36:e7:77:4a            31040              -78\n22  18.056346  b4:0e:de:e7:50:4f            23104              -79\n23  18.440730  78:ac:c0:86:92:5e            27408              -65\n24  19.721553  80:9f:9b:8d:69:8e              288              -73\n25  20.212464  e2:c9:28:34:7b:d5             7776              -81\n26  20.885440  f8:38:69:a8:a8:43            25920              -81\n27  21.351507  30:03:c8:6a:30:cf            13104              -84\n28  22.928951  92:ce:10:68:fd:79            22848              -80\n29  22.981205  92:ce:10:68:fd:79            22864              -78\n30  23.002886  92:ce:10:68:fd:79            22880              -77\n31  24.633582  30:03:c8:6a:1f:d5            47248              -83\n32  24.640719  e2:4e:a1:1a:a2:0c            57392              -56\n33  25.608153  64:6c:80:08:6c:9d            10688              -80\n34  26.111263  34:2e:b7:9c:54:7d            62320              -73\n35  26.116546  34:2e:b7:9c:54:7d            62336              -72\n36  27.022784  90:e8:68:bc:70:a3              288              -69\n37  27.459290  f8:38:69:a8:a8:43            26496              -81\n38  27.717460  78:ac:c0:86:92:5e            29120              -60\n39  27.934958  78:ac:c0:86:92:5e            29152              -63\n40  27.979479  e6:85:d7:1d:45:8c            11616              -78",
      "text/html": "<div>\n<style scoped>\n    .dataframe tbody tr th:only-of-type {\n        vertical-align: middle;\n    }\n\n    .dataframe tbody tr th {\n        vertical-align: top;\n    }\n\n    .dataframe thead th {\n        text-align: right;\n    }\n</style>\n<table border=\"1\" class=\"dataframe\">\n  <thead>\n    <tr style=\"text-align: right;\">\n      <th></th>\n      <th>Timestamp</th>\n      <th>MAC addr</th>\n      <th>Sequence Number</th>\n      <th>Signal Strength</th>\n    </tr>\n  </thead>\n  <tbody>\n    <tr>\n      <th>0</th>\n      <td>0.000000</td>\n      <td>a4:97:b1:8b:c6:45</td>\n      <td>5760</td>\n      <td>-87</td>\n    </tr>\n    <tr>\n      <th>1</th>\n      <td>0.202759</td>\n      <td>78:ac:c0:86:92:5e</td>\n      <td>24352</td>\n      <td>-60</td>\n    </tr>\n    <tr>\n      <th>2</th>\n      <td>0.311478</td>\n      <td>78:ac:c0:86:92:5e</td>\n      <td>24368</td>\n      <td>-58</td>\n    </tr>\n    <tr>\n      <th>3</th>\n      <td>0.420198</td>\n      <td>78:ac:c0:86:92:5e</td>\n      <td>24384</td>\n      <td>-66</td>\n    </tr>\n    <tr>\n      <th>4</th>\n      <td>1.431418</td>\n      <td>d6:da:ab:cb:be:c6</td>\n      <td>37392</td>\n      <td>-78</td>\n    </tr>\n    <tr>\n      <th>5</th>\n      <td>1.554295</td>\n      <td>d6:da:ab:cb:be:c6</td>\n      <td>37536</td>\n      <td>-78</td>\n    </tr>\n    <tr>\n      <th>6</th>\n      <td>4.137896</td>\n      <td>38:d5:7a:af:88:97</td>\n      <td>43712</td>\n      <td>-83</td>\n    </tr>\n    <tr>\n      <th>7</th>\n      <td>6.036037</td>\n      <td>d4:1b:81:82:e9:29</td>\n      <td>15472</td>\n      <td>-81</td>\n    </tr>\n    <tr>\n      <th>8</th>\n      <td>6.287567</td>\n      <td>70:77:81:a2:fe:3a</td>\n      <td>35072</td>\n      <td>-79</td>\n    </tr>\n    <tr>\n      <th>9</th>\n      <td>6.296415</td>\n      <td>70:77:81:a2:fe:3a</td>\n      <td>35104</td>\n      <td>-73</td>\n    </tr>\n    <tr>\n      <th>10</th>\n      <td>7.373729</td>\n      <td>f8:38:69:a8:a8:43</td>\n      <td>24624</td>\n      <td>-81</td>\n    </tr>\n    <tr>\n      <th>11</th>\n      <td>8.974229</td>\n      <td>30:03:c8:6a:30:2d</td>\n      <td>48720</td>\n      <td>-81</td>\n    </tr>\n    <tr>\n      <th>12</th>\n      <td>8.977058</td>\n      <td>30:03:c8:6a:30:2d</td>\n      <td>48768</td>\n      <td>-81</td>\n    </tr>\n    <tr>\n      <th>13</th>\n      <td>9.222828</td>\n      <td>34:2e:b7:9c:54:7d</td>\n      <td>60816</td>\n      <td>-74</td>\n    </tr>\n    <tr>\n      <th>14</th>\n      <td>9.381490</td>\n      <td>78:ac:c0:86:92:5e</td>\n      <td>25936</td>\n      <td>-59</td>\n    </tr>\n    <tr>\n      <th>15</th>\n      <td>10.340744</td>\n      <td>50:84:92:93:d2:44</td>\n      <td>16784</td>\n      <td>-85</td>\n    </tr>\n    <tr>\n      <th>16</th>\n      <td>12.937848</td>\n      <td>a6:6d:fb:24:fa:65</td>\n      <td>20704</td>\n      <td>-78</td>\n    </tr>\n    <tr>\n      <th>17</th>\n      <td>13.995433</td>\n      <td>f8:38:69:a8:a8:43</td>\n      <td>25216</td>\n      <td>-73</td>\n    </tr>\n    <tr>\n      <th>18</th>\n      <td>14.160186</td>\n      <td>f8:38:69:a8:a8:43</td>\n      <td>25280</td>\n      <td>-74</td>\n    </tr>\n    <tr>\n      <th>19</th>\n      <td>15.002356</td>\n      <td>70:77:81:a2:fe:3a</td>\n      <td>38032</td>\n      <td>-74</td>\n    </tr>\n    <tr>\n      <th>20</th>\n      <td>16.008847</td>\n      <td>64:6c:80:17:44:eb</td>\n      <td>2528</td>\n      <td>-82</td>\n    </tr>\n    <tr>\n      <th>21</th>\n      <td>17.943597</td>\n      <td>96:ee:36:e7:77:4a</td>\n      <td>31040</td>\n      <td>-78</td>\n    </tr>\n    <tr>\n      <th>22</th>\n      <td>18.056346</td>\n      <td>b4:0e:de:e7:50:4f</td>\n      <td>23104</td>\n      <td>-79</td>\n    </tr>\n    <tr>\n      <th>23</th>\n      <td>18.440730</td>\n      <td>78:ac:c0:86:92:5e</td>\n      <td>27408</td>\n      <td>-65</td>\n    </tr>\n    <tr>\n      <th>24</th>\n      <td>19.721553</td>\n      <td>80:9f:9b:8d:69:8e</td>\n      <td>288</td>\n      <td>-73</td>\n    </tr>\n    <tr>\n      <th>25</th>\n      <td>20.212464</td>\n      <td>e2:c9:28:34:7b:d5</td>\n      <td>7776</td>\n      <td>-81</td>\n    </tr>\n    <tr>\n      <th>26</th>\n      <td>20.885440</td>\n      <td>f8:38:69:a8:a8:43</td>\n      <td>25920</td>\n      <td>-81</td>\n    </tr>\n    <tr>\n      <th>27</th>\n      <td>21.351507</td>\n      <td>30:03:c8:6a:30:cf</td>\n      <td>13104</td>\n      <td>-84</td>\n    </tr>\n    <tr>\n      <th>28</th>\n      <td>22.928951</td>\n      <td>92:ce:10:68:fd:79</td>\n      <td>22848</td>\n      <td>-80</td>\n    </tr>\n    <tr>\n      <th>29</th>\n      <td>22.981205</td>\n      <td>92:ce:10:68:fd:79</td>\n      <td>22864</td>\n      <td>-78</td>\n    </tr>\n    <tr>\n      <th>30</th>\n      <td>23.002886</td>\n      <td>92:ce:10:68:fd:79</td>\n      <td>22880</td>\n      <td>-77</td>\n    </tr>\n    <tr>\n      <th>31</th>\n      <td>24.633582</td>\n      <td>30:03:c8:6a:1f:d5</td>\n      <td>47248</td>\n      <td>-83</td>\n    </tr>\n    <tr>\n      <th>32</th>\n      <td>24.640719</td>\n      <td>e2:4e:a1:1a:a2:0c</td>\n      <td>57392</td>\n      <td>-56</td>\n    </tr>\n    <tr>\n      <th>33</th>\n      <td>25.608153</td>\n      <td>64:6c:80:08:6c:9d</td>\n      <td>10688</td>\n      <td>-80</td>\n    </tr>\n    <tr>\n      <th>34</th>\n      <td>26.111263</td>\n      <td>34:2e:b7:9c:54:7d</td>\n      <td>62320</td>\n      <td>-73</td>\n    </tr>\n    <tr>\n      <th>35</th>\n      <td>26.116546</td>\n      <td>34:2e:b7:9c:54:7d</td>\n      <td>62336</td>\n      <td>-72</td>\n    </tr>\n    <tr>\n      <th>36</th>\n      <td>27.022784</td>\n      <td>90:e8:68:bc:70:a3</td>\n      <td>288</td>\n      <td>-69</td>\n    </tr>\n    <tr>\n      <th>37</th>\n      <td>27.459290</td>\n      <td>f8:38:69:a8:a8:43</td>\n      <td>26496</td>\n      <td>-81</td>\n    </tr>\n    <tr>\n      <th>38</th>\n      <td>27.717460</td>\n      <td>78:ac:c0:86:92:5e</td>\n      <td>29120</td>\n      <td>-60</td>\n    </tr>\n    <tr>\n      <th>39</th>\n      <td>27.934958</td>\n      <td>78:ac:c0:86:92:5e</td>\n      <td>29152</td>\n      <td>-63</td>\n    </tr>\n    <tr>\n      <th>40</th>\n      <td>27.979479</td>\n      <td>e6:85:d7:1d:45:8c</td>\n      <td>11616</td>\n      <td>-78</td>\n    </tr>\n  </tbody>\n</table>\n</div>"
     },
     "execution_count": 85,
     "metadata": {},
     "output_type": "execute_result"
    }
   ],
   "source": [
    "df"
   ],
   "metadata": {
    "collapsed": false,
    "ExecuteTime": {
     "end_time": "2023-08-05T19:28:22.789324400Z",
     "start_time": "2023-08-05T19:28:22.758073700Z"
    }
   }
  },
  {
   "cell_type": "code",
   "execution_count": 95,
   "outputs": [],
   "source": [
    "timestamp_distances = []\n",
    "\n",
    "for i in range(len(df)):\n",
    "    for j in range(i+1, len(df)):\n",
    "        timestamp_distances.append(abs(df['Timestamp'][i] - df['Timestamp'][j]))"
   ],
   "metadata": {
    "collapsed": false,
    "ExecuteTime": {
     "end_time": "2023-08-05T19:38:16.784282600Z",
     "start_time": "2023-08-05T19:38:16.754499100Z"
    }
   }
  },
  {
   "cell_type": "code",
   "execution_count": 96,
   "outputs": [
    {
     "data": {
      "text/plain": "[Decimal('0.202759'),\n Decimal('0.311478'),\n Decimal('0.420198'),\n Decimal('1.431418'),\n Decimal('1.554295'),\n Decimal('4.137896'),\n Decimal('6.036037'),\n Decimal('6.287567'),\n Decimal('6.296415'),\n Decimal('7.373729'),\n Decimal('8.974229'),\n Decimal('8.977058'),\n Decimal('9.222828'),\n Decimal('9.381490'),\n Decimal('10.340744'),\n Decimal('12.937848'),\n Decimal('13.995433'),\n Decimal('14.160186'),\n Decimal('15.002356'),\n Decimal('16.008847'),\n Decimal('17.943597'),\n Decimal('18.056346'),\n Decimal('18.440730'),\n Decimal('19.721553'),\n Decimal('20.212464'),\n Decimal('20.885440'),\n Decimal('21.351507'),\n Decimal('22.928951'),\n Decimal('22.981205'),\n Decimal('23.002886'),\n Decimal('24.633582'),\n Decimal('24.640719'),\n Decimal('25.608153'),\n Decimal('26.111263'),\n Decimal('26.116546'),\n Decimal('27.022784'),\n Decimal('27.459290'),\n Decimal('27.717460'),\n Decimal('27.934958'),\n Decimal('27.979479'),\n Decimal('0.108719'),\n Decimal('0.217439'),\n Decimal('1.228659'),\n Decimal('1.351536'),\n Decimal('3.935137'),\n Decimal('5.833278'),\n Decimal('6.084808'),\n Decimal('6.093656'),\n Decimal('7.170970'),\n Decimal('8.771470'),\n Decimal('8.774299'),\n Decimal('9.020069'),\n Decimal('9.178731'),\n Decimal('10.137985'),\n Decimal('12.735089'),\n Decimal('13.792674'),\n Decimal('13.957427'),\n Decimal('14.799597'),\n Decimal('15.806088'),\n Decimal('17.740838'),\n Decimal('17.853587'),\n Decimal('18.237971'),\n Decimal('19.518794'),\n Decimal('20.009705'),\n Decimal('20.682681'),\n Decimal('21.148748'),\n Decimal('22.726192'),\n Decimal('22.778446'),\n Decimal('22.800127'),\n Decimal('24.430823'),\n Decimal('24.437960'),\n Decimal('25.405394'),\n Decimal('25.908504'),\n Decimal('25.913787'),\n Decimal('26.820025'),\n Decimal('27.256531'),\n Decimal('27.514701'),\n Decimal('27.732199'),\n Decimal('27.776720'),\n Decimal('0.108720'),\n Decimal('1.119940'),\n Decimal('1.242817'),\n Decimal('3.826418'),\n Decimal('5.724559'),\n Decimal('5.976089'),\n Decimal('5.984937'),\n Decimal('7.062251'),\n Decimal('8.662751'),\n Decimal('8.665580'),\n Decimal('8.911350'),\n Decimal('9.070012'),\n Decimal('10.029266'),\n Decimal('12.626370'),\n Decimal('13.683955'),\n Decimal('13.848708'),\n Decimal('14.690878'),\n Decimal('15.697369'),\n Decimal('17.632119'),\n Decimal('17.744868'),\n Decimal('18.129252'),\n Decimal('19.410075'),\n Decimal('19.900986'),\n Decimal('20.573962'),\n Decimal('21.040029'),\n Decimal('22.617473'),\n Decimal('22.669727'),\n Decimal('22.691408'),\n Decimal('24.322104'),\n Decimal('24.329241'),\n Decimal('25.296675'),\n Decimal('25.799785'),\n Decimal('25.805068'),\n Decimal('26.711306'),\n Decimal('27.147812'),\n Decimal('27.405982'),\n Decimal('27.623480'),\n Decimal('27.668001'),\n Decimal('1.011220'),\n Decimal('1.134097'),\n Decimal('3.717698'),\n Decimal('5.615839'),\n Decimal('5.867369'),\n Decimal('5.876217'),\n Decimal('6.953531'),\n Decimal('8.554031'),\n Decimal('8.556860'),\n Decimal('8.802630'),\n Decimal('8.961292'),\n Decimal('9.920546'),\n Decimal('12.517650'),\n Decimal('13.575235'),\n Decimal('13.739988'),\n Decimal('14.582158'),\n Decimal('15.588649'),\n Decimal('17.523399'),\n Decimal('17.636148'),\n Decimal('18.020532'),\n Decimal('19.301355'),\n Decimal('19.792266'),\n Decimal('20.465242'),\n Decimal('20.931309'),\n Decimal('22.508753'),\n Decimal('22.561007'),\n Decimal('22.582688'),\n Decimal('24.213384'),\n Decimal('24.220521'),\n Decimal('25.187955'),\n Decimal('25.691065'),\n Decimal('25.696348'),\n Decimal('26.602586'),\n Decimal('27.039092'),\n Decimal('27.297262'),\n Decimal('27.514760'),\n Decimal('27.559281'),\n Decimal('0.122877'),\n Decimal('2.706478'),\n Decimal('4.604619'),\n Decimal('4.856149'),\n Decimal('4.864997'),\n Decimal('5.942311'),\n Decimal('7.542811'),\n Decimal('7.545640'),\n Decimal('7.791410'),\n Decimal('7.950072'),\n Decimal('8.909326'),\n Decimal('11.506430'),\n Decimal('12.564015'),\n Decimal('12.728768'),\n Decimal('13.570938'),\n Decimal('14.577429'),\n Decimal('16.512179'),\n Decimal('16.624928'),\n Decimal('17.009312'),\n Decimal('18.290135'),\n Decimal('18.781046'),\n Decimal('19.454022'),\n Decimal('19.920089'),\n Decimal('21.497533'),\n Decimal('21.549787'),\n Decimal('21.571468'),\n Decimal('23.202164'),\n Decimal('23.209301'),\n Decimal('24.176735'),\n Decimal('24.679845'),\n Decimal('24.685128'),\n Decimal('25.591366'),\n Decimal('26.027872'),\n Decimal('26.286042'),\n Decimal('26.503540'),\n Decimal('26.548061'),\n Decimal('2.583601'),\n Decimal('4.481742'),\n Decimal('4.733272'),\n Decimal('4.742120'),\n Decimal('5.819434'),\n Decimal('7.419934'),\n Decimal('7.422763'),\n Decimal('7.668533'),\n Decimal('7.827195'),\n Decimal('8.786449'),\n Decimal('11.383553'),\n Decimal('12.441138'),\n Decimal('12.605891'),\n Decimal('13.448061'),\n Decimal('14.454552'),\n Decimal('16.389302'),\n Decimal('16.502051'),\n Decimal('16.886435'),\n Decimal('18.167258'),\n Decimal('18.658169'),\n Decimal('19.331145'),\n Decimal('19.797212'),\n Decimal('21.374656'),\n Decimal('21.426910'),\n Decimal('21.448591'),\n Decimal('23.079287'),\n Decimal('23.086424'),\n Decimal('24.053858'),\n Decimal('24.556968'),\n Decimal('24.562251'),\n Decimal('25.468489'),\n Decimal('25.904995'),\n Decimal('26.163165'),\n Decimal('26.380663'),\n Decimal('26.425184'),\n Decimal('1.898141'),\n Decimal('2.149671'),\n Decimal('2.158519'),\n Decimal('3.235833'),\n Decimal('4.836333'),\n Decimal('4.839162'),\n Decimal('5.084932'),\n Decimal('5.243594'),\n Decimal('6.202848'),\n Decimal('8.799952'),\n Decimal('9.857537'),\n Decimal('10.022290'),\n Decimal('10.864460'),\n Decimal('11.870951'),\n Decimal('13.805701'),\n Decimal('13.918450'),\n Decimal('14.302834'),\n Decimal('15.583657'),\n Decimal('16.074568'),\n Decimal('16.747544'),\n Decimal('17.213611'),\n Decimal('18.791055'),\n Decimal('18.843309'),\n Decimal('18.864990'),\n Decimal('20.495686'),\n Decimal('20.502823'),\n Decimal('21.470257'),\n Decimal('21.973367'),\n Decimal('21.978650'),\n Decimal('22.884888'),\n Decimal('23.321394'),\n Decimal('23.579564'),\n Decimal('23.797062'),\n Decimal('23.841583'),\n Decimal('0.251530'),\n Decimal('0.260378'),\n Decimal('1.337692'),\n Decimal('2.938192'),\n Decimal('2.941021'),\n Decimal('3.186791'),\n Decimal('3.345453'),\n Decimal('4.304707'),\n Decimal('6.901811'),\n Decimal('7.959396'),\n Decimal('8.124149'),\n Decimal('8.966319'),\n Decimal('9.972810'),\n Decimal('11.907560'),\n Decimal('12.020309'),\n Decimal('12.404693'),\n Decimal('13.685516'),\n Decimal('14.176427'),\n Decimal('14.849403'),\n Decimal('15.315470'),\n Decimal('16.892914'),\n Decimal('16.945168'),\n Decimal('16.966849'),\n Decimal('18.597545'),\n Decimal('18.604682'),\n Decimal('19.572116'),\n Decimal('20.075226'),\n Decimal('20.080509'),\n Decimal('20.986747'),\n Decimal('21.423253'),\n Decimal('21.681423'),\n Decimal('21.898921'),\n Decimal('21.943442'),\n Decimal('0.008848'),\n Decimal('1.086162'),\n Decimal('2.686662'),\n Decimal('2.689491'),\n Decimal('2.935261'),\n Decimal('3.093923'),\n Decimal('4.053177'),\n Decimal('6.650281'),\n Decimal('7.707866'),\n Decimal('7.872619'),\n Decimal('8.714789'),\n Decimal('9.721280'),\n Decimal('11.656030'),\n Decimal('11.768779'),\n Decimal('12.153163'),\n Decimal('13.433986'),\n Decimal('13.924897'),\n Decimal('14.597873'),\n Decimal('15.063940'),\n Decimal('16.641384'),\n Decimal('16.693638'),\n Decimal('16.715319'),\n Decimal('18.346015'),\n Decimal('18.353152'),\n Decimal('19.320586'),\n Decimal('19.823696'),\n Decimal('19.828979'),\n Decimal('20.735217'),\n Decimal('21.171723'),\n Decimal('21.429893'),\n Decimal('21.647391'),\n Decimal('21.691912'),\n Decimal('1.077314'),\n Decimal('2.677814'),\n Decimal('2.680643'),\n Decimal('2.926413'),\n Decimal('3.085075'),\n Decimal('4.044329'),\n Decimal('6.641433'),\n Decimal('7.699018'),\n Decimal('7.863771'),\n Decimal('8.705941'),\n Decimal('9.712432'),\n Decimal('11.647182'),\n Decimal('11.759931'),\n Decimal('12.144315'),\n Decimal('13.425138'),\n Decimal('13.916049'),\n Decimal('14.589025'),\n Decimal('15.055092'),\n Decimal('16.632536'),\n Decimal('16.684790'),\n Decimal('16.706471'),\n Decimal('18.337167'),\n Decimal('18.344304'),\n Decimal('19.311738'),\n Decimal('19.814848'),\n Decimal('19.820131'),\n Decimal('20.726369'),\n Decimal('21.162875'),\n Decimal('21.421045'),\n Decimal('21.638543'),\n Decimal('21.683064'),\n Decimal('1.600500'),\n Decimal('1.603329'),\n Decimal('1.849099'),\n Decimal('2.007761'),\n Decimal('2.967015'),\n Decimal('5.564119'),\n Decimal('6.621704'),\n Decimal('6.786457'),\n Decimal('7.628627'),\n Decimal('8.635118'),\n Decimal('10.569868'),\n Decimal('10.682617'),\n Decimal('11.067001'),\n Decimal('12.347824'),\n Decimal('12.838735'),\n Decimal('13.511711'),\n Decimal('13.977778'),\n Decimal('15.555222'),\n Decimal('15.607476'),\n Decimal('15.629157'),\n Decimal('17.259853'),\n Decimal('17.266990'),\n Decimal('18.234424'),\n Decimal('18.737534'),\n Decimal('18.742817'),\n Decimal('19.649055'),\n Decimal('20.085561'),\n Decimal('20.343731'),\n Decimal('20.561229'),\n Decimal('20.605750'),\n Decimal('0.002829'),\n Decimal('0.248599'),\n Decimal('0.407261'),\n Decimal('1.366515'),\n Decimal('3.963619'),\n Decimal('5.021204'),\n Decimal('5.185957'),\n Decimal('6.028127'),\n Decimal('7.034618'),\n Decimal('8.969368'),\n Decimal('9.082117'),\n Decimal('9.466501'),\n Decimal('10.747324'),\n Decimal('11.238235'),\n Decimal('11.911211'),\n Decimal('12.377278'),\n Decimal('13.954722'),\n Decimal('14.006976'),\n Decimal('14.028657'),\n Decimal('15.659353'),\n Decimal('15.666490'),\n Decimal('16.633924'),\n Decimal('17.137034'),\n Decimal('17.142317'),\n Decimal('18.048555'),\n Decimal('18.485061'),\n Decimal('18.743231'),\n Decimal('18.960729'),\n Decimal('19.005250'),\n Decimal('0.245770'),\n Decimal('0.404432'),\n Decimal('1.363686'),\n Decimal('3.960790'),\n Decimal('5.018375'),\n Decimal('5.183128'),\n Decimal('6.025298'),\n Decimal('7.031789'),\n Decimal('8.966539'),\n Decimal('9.079288'),\n Decimal('9.463672'),\n Decimal('10.744495'),\n Decimal('11.235406'),\n Decimal('11.908382'),\n Decimal('12.374449'),\n Decimal('13.951893'),\n Decimal('14.004147'),\n Decimal('14.025828'),\n Decimal('15.656524'),\n Decimal('15.663661'),\n Decimal('16.631095'),\n Decimal('17.134205'),\n Decimal('17.139488'),\n Decimal('18.045726'),\n Decimal('18.482232'),\n Decimal('18.740402'),\n Decimal('18.957900'),\n Decimal('19.002421'),\n Decimal('0.158662'),\n Decimal('1.117916'),\n Decimal('3.715020'),\n Decimal('4.772605'),\n Decimal('4.937358'),\n Decimal('5.779528'),\n Decimal('6.786019'),\n Decimal('8.720769'),\n Decimal('8.833518'),\n Decimal('9.217902'),\n Decimal('10.498725'),\n Decimal('10.989636'),\n Decimal('11.662612'),\n Decimal('12.128679'),\n Decimal('13.706123'),\n Decimal('13.758377'),\n Decimal('13.780058'),\n Decimal('15.410754'),\n Decimal('15.417891'),\n Decimal('16.385325'),\n Decimal('16.888435'),\n Decimal('16.893718'),\n Decimal('17.799956'),\n Decimal('18.236462'),\n Decimal('18.494632'),\n Decimal('18.712130'),\n Decimal('18.756651'),\n Decimal('0.959254'),\n Decimal('3.556358'),\n Decimal('4.613943'),\n Decimal('4.778696'),\n Decimal('5.620866'),\n Decimal('6.627357'),\n Decimal('8.562107'),\n Decimal('8.674856'),\n Decimal('9.059240'),\n Decimal('10.340063'),\n Decimal('10.830974'),\n Decimal('11.503950'),\n Decimal('11.970017'),\n Decimal('13.547461'),\n Decimal('13.599715'),\n Decimal('13.621396'),\n Decimal('15.252092'),\n Decimal('15.259229'),\n Decimal('16.226663'),\n Decimal('16.729773'),\n Decimal('16.735056'),\n Decimal('17.641294'),\n Decimal('18.077800'),\n Decimal('18.335970'),\n Decimal('18.553468'),\n Decimal('18.597989'),\n Decimal('2.597104'),\n Decimal('3.654689'),\n Decimal('3.819442'),\n Decimal('4.661612'),\n Decimal('5.668103'),\n Decimal('7.602853'),\n Decimal('7.715602'),\n Decimal('8.099986'),\n Decimal('9.380809'),\n Decimal('9.871720'),\n Decimal('10.544696'),\n Decimal('11.010763'),\n Decimal('12.588207'),\n Decimal('12.640461'),\n Decimal('12.662142'),\n Decimal('14.292838'),\n Decimal('14.299975'),\n Decimal('15.267409'),\n Decimal('15.770519'),\n Decimal('15.775802'),\n Decimal('16.682040'),\n Decimal('17.118546'),\n Decimal('17.376716'),\n Decimal('17.594214'),\n Decimal('17.638735'),\n Decimal('1.057585'),\n Decimal('1.222338'),\n Decimal('2.064508'),\n Decimal('3.070999'),\n Decimal('5.005749'),\n Decimal('5.118498'),\n Decimal('5.502882'),\n Decimal('6.783705'),\n Decimal('7.274616'),\n Decimal('7.947592'),\n Decimal('8.413659'),\n Decimal('9.991103'),\n Decimal('10.043357'),\n Decimal('10.065038'),\n Decimal('11.695734'),\n Decimal('11.702871'),\n Decimal('12.670305'),\n Decimal('13.173415'),\n Decimal('13.178698'),\n Decimal('14.084936'),\n Decimal('14.521442'),\n Decimal('14.779612'),\n Decimal('14.997110'),\n Decimal('15.041631'),\n Decimal('0.164753'),\n Decimal('1.006923'),\n Decimal('2.013414'),\n Decimal('3.948164'),\n Decimal('4.060913'),\n Decimal('4.445297'),\n Decimal('5.726120'),\n Decimal('6.217031'),\n Decimal('6.890007'),\n Decimal('7.356074'),\n Decimal('8.933518'),\n Decimal('8.985772'),\n Decimal('9.007453'),\n Decimal('10.638149'),\n Decimal('10.645286'),\n Decimal('11.612720'),\n Decimal('12.115830'),\n Decimal('12.121113'),\n Decimal('13.027351'),\n Decimal('13.463857'),\n Decimal('13.722027'),\n Decimal('13.939525'),\n Decimal('13.984046'),\n Decimal('0.842170'),\n Decimal('1.848661'),\n Decimal('3.783411'),\n Decimal('3.896160'),\n Decimal('4.280544'),\n Decimal('5.561367'),\n Decimal('6.052278'),\n Decimal('6.725254'),\n Decimal('7.191321'),\n Decimal('8.768765'),\n Decimal('8.821019'),\n Decimal('8.842700'),\n Decimal('10.473396'),\n Decimal('10.480533'),\n Decimal('11.447967'),\n Decimal('11.951077'),\n Decimal('11.956360'),\n Decimal('12.862598'),\n Decimal('13.299104'),\n Decimal('13.557274'),\n Decimal('13.774772'),\n Decimal('13.819293'),\n Decimal('1.006491'),\n Decimal('2.941241'),\n Decimal('3.053990'),\n Decimal('3.438374'),\n Decimal('4.719197'),\n Decimal('5.210108'),\n Decimal('5.883084'),\n Decimal('6.349151'),\n Decimal('7.926595'),\n Decimal('7.978849'),\n Decimal('8.000530'),\n Decimal('9.631226'),\n Decimal('9.638363'),\n Decimal('10.605797'),\n Decimal('11.108907'),\n Decimal('11.114190'),\n Decimal('12.020428'),\n Decimal('12.456934'),\n Decimal('12.715104'),\n Decimal('12.932602'),\n Decimal('12.977123'),\n Decimal('1.934750'),\n Decimal('2.047499'),\n Decimal('2.431883'),\n Decimal('3.712706'),\n Decimal('4.203617'),\n Decimal('4.876593'),\n Decimal('5.342660'),\n Decimal('6.920104'),\n Decimal('6.972358'),\n Decimal('6.994039'),\n Decimal('8.624735'),\n Decimal('8.631872'),\n Decimal('9.599306'),\n Decimal('10.102416'),\n Decimal('10.107699'),\n Decimal('11.013937'),\n Decimal('11.450443'),\n Decimal('11.708613'),\n Decimal('11.926111'),\n Decimal('11.970632'),\n Decimal('0.112749'),\n Decimal('0.497133'),\n Decimal('1.777956'),\n Decimal('2.268867'),\n Decimal('2.941843'),\n Decimal('3.407910'),\n Decimal('4.985354'),\n Decimal('5.037608'),\n Decimal('5.059289'),\n Decimal('6.689985'),\n Decimal('6.697122'),\n Decimal('7.664556'),\n Decimal('8.167666'),\n Decimal('8.172949'),\n Decimal('9.079187'),\n Decimal('9.515693'),\n Decimal('9.773863'),\n Decimal('9.991361'),\n Decimal('10.035882'),\n Decimal('0.384384'),\n Decimal('1.665207'),\n Decimal('2.156118'),\n Decimal('2.829094'),\n Decimal('3.295161'),\n Decimal('4.872605'),\n Decimal('4.924859'),\n Decimal('4.946540'),\n Decimal('6.577236'),\n Decimal('6.584373'),\n Decimal('7.551807'),\n Decimal('8.054917'),\n Decimal('8.060200'),\n Decimal('8.966438'),\n Decimal('9.402944'),\n Decimal('9.661114'),\n Decimal('9.878612'),\n Decimal('9.923133'),\n Decimal('1.280823'),\n Decimal('1.771734'),\n Decimal('2.444710'),\n Decimal('2.910777'),\n Decimal('4.488221'),\n Decimal('4.540475'),\n Decimal('4.562156'),\n Decimal('6.192852'),\n Decimal('6.199989'),\n Decimal('7.167423'),\n Decimal('7.670533'),\n Decimal('7.675816'),\n Decimal('8.582054'),\n Decimal('9.018560'),\n Decimal('9.276730'),\n Decimal('9.494228'),\n Decimal('9.538749'),\n Decimal('0.490911'),\n Decimal('1.163887'),\n Decimal('1.629954'),\n Decimal('3.207398'),\n Decimal('3.259652'),\n Decimal('3.281333'),\n Decimal('4.912029'),\n Decimal('4.919166'),\n Decimal('5.886600'),\n Decimal('6.389710'),\n Decimal('6.394993'),\n Decimal('7.301231'),\n Decimal('7.737737'),\n Decimal('7.995907'),\n Decimal('8.213405'),\n Decimal('8.257926'),\n Decimal('0.672976'),\n Decimal('1.139043'),\n Decimal('2.716487'),\n Decimal('2.768741'),\n Decimal('2.790422'),\n Decimal('4.421118'),\n Decimal('4.428255'),\n Decimal('5.395689'),\n Decimal('5.898799'),\n Decimal('5.904082'),\n Decimal('6.810320'),\n Decimal('7.246826'),\n Decimal('7.504996'),\n Decimal('7.722494'),\n Decimal('7.767015'),\n Decimal('0.466067'),\n Decimal('2.043511'),\n Decimal('2.095765'),\n Decimal('2.117446'),\n Decimal('3.748142'),\n Decimal('3.755279'),\n Decimal('4.722713'),\n Decimal('5.225823'),\n Decimal('5.231106'),\n Decimal('6.137344'),\n Decimal('6.573850'),\n Decimal('6.832020'),\n Decimal('7.049518'),\n Decimal('7.094039'),\n Decimal('1.577444'),\n Decimal('1.629698'),\n Decimal('1.651379'),\n Decimal('3.282075'),\n Decimal('3.289212'),\n Decimal('4.256646'),\n Decimal('4.759756'),\n Decimal('4.765039'),\n Decimal('5.671277'),\n Decimal('6.107783'),\n Decimal('6.365953'),\n Decimal('6.583451'),\n Decimal('6.627972'),\n Decimal('0.052254'),\n Decimal('0.073935'),\n Decimal('1.704631'),\n Decimal('1.711768'),\n Decimal('2.679202'),\n Decimal('3.182312'),\n Decimal('3.187595'),\n Decimal('4.093833'),\n Decimal('4.530339'),\n Decimal('4.788509'),\n Decimal('5.006007'),\n Decimal('5.050528'),\n Decimal('0.021681'),\n Decimal('1.652377'),\n Decimal('1.659514'),\n Decimal('2.626948'),\n Decimal('3.130058'),\n Decimal('3.135341'),\n Decimal('4.041579'),\n Decimal('4.478085'),\n Decimal('4.736255'),\n Decimal('4.953753'),\n Decimal('4.998274'),\n Decimal('1.630696'),\n Decimal('1.637833'),\n Decimal('2.605267'),\n Decimal('3.108377'),\n Decimal('3.113660'),\n Decimal('4.019898'),\n Decimal('4.456404'),\n Decimal('4.714574'),\n Decimal('4.932072'),\n Decimal('4.976593'),\n Decimal('0.007137'),\n Decimal('0.974571'),\n Decimal('1.477681'),\n Decimal('1.482964'),\n Decimal('2.389202'),\n Decimal('2.825708'),\n Decimal('3.083878'),\n Decimal('3.301376'),\n Decimal('3.345897'),\n Decimal('0.967434'),\n Decimal('1.470544'),\n Decimal('1.475827'),\n Decimal('2.382065'),\n Decimal('2.818571'),\n Decimal('3.076741'),\n Decimal('3.294239'),\n Decimal('3.338760'),\n Decimal('0.503110'),\n Decimal('0.508393'),\n Decimal('1.414631'),\n Decimal('1.851137'),\n Decimal('2.109307'),\n Decimal('2.326805'),\n Decimal('2.371326'),\n Decimal('0.005283'),\n Decimal('0.911521'),\n Decimal('1.348027'),\n Decimal('1.606197'),\n Decimal('1.823695'),\n Decimal('1.868216'),\n Decimal('0.906238'),\n Decimal('1.342744'),\n Decimal('1.600914'),\n Decimal('1.818412'),\n Decimal('1.862933'),\n Decimal('0.436506'),\n Decimal('0.694676'),\n Decimal('0.912174'),\n Decimal('0.956695'),\n Decimal('0.258170'),\n Decimal('0.475668'),\n Decimal('0.520189'),\n Decimal('0.217498'),\n Decimal('0.262019'),\n Decimal('0.044521')]"
     },
     "execution_count": 96,
     "metadata": {},
     "output_type": "execute_result"
    }
   ],
   "source": [
    "timestamp_distances"
   ],
   "metadata": {
    "collapsed": false,
    "ExecuteTime": {
     "end_time": "2023-08-05T19:38:17.130232900Z",
     "start_time": "2023-08-05T19:38:17.110063200Z"
    }
   }
  },
  {
   "cell_type": "code",
   "execution_count": 97,
   "outputs": [],
   "source": [
    "sequence_number_distances = []\n",
    "\n",
    "for i in range(len(df)):\n",
    "    for j in range(i+1, len(df)):\n",
    "        sequence_number_distances.append(abs(df['Sequence Number'][i] - df['Sequence Number'][j]))"
   ],
   "metadata": {
    "collapsed": false,
    "ExecuteTime": {
     "end_time": "2023-08-05T19:38:32.325524100Z",
     "start_time": "2023-08-05T19:38:32.294253900Z"
    }
   }
  },
  {
   "cell_type": "code",
   "execution_count": 98,
   "outputs": [
    {
     "data": {
      "text/plain": "[18592,\n 18608,\n 18624,\n 31632,\n 31776,\n 37952,\n 9712,\n 29312,\n 29344,\n 18864,\n 42960,\n 43008,\n 55056,\n 20176,\n 11024,\n 14944,\n 19456,\n 19520,\n 32272,\n 3232,\n 25280,\n 17344,\n 21648,\n 5472,\n 2016,\n 20160,\n 7344,\n 17088,\n 17104,\n 17120,\n 41488,\n 51632,\n 4928,\n 56560,\n 56576,\n 5472,\n 20736,\n 23360,\n 23392,\n 5856,\n 16,\n 32,\n 13040,\n 13184,\n 19360,\n 8880,\n 10720,\n 10752,\n 272,\n 24368,\n 24416,\n 36464,\n 1584,\n 7568,\n 3648,\n 864,\n 928,\n 13680,\n 21824,\n 6688,\n 1248,\n 3056,\n 24064,\n 16576,\n 1568,\n 11248,\n 1504,\n 1488,\n 1472,\n 22896,\n 33040,\n 13664,\n 37968,\n 37984,\n 24064,\n 2144,\n 4768,\n 4800,\n 12736,\n 16,\n 13024,\n 13168,\n 19344,\n 8896,\n 10704,\n 10736,\n 256,\n 24352,\n 24400,\n 36448,\n 1568,\n 7584,\n 3664,\n 848,\n 912,\n 13664,\n 21840,\n 6672,\n 1264,\n 3040,\n 24080,\n 16592,\n 1552,\n 11264,\n 1520,\n 1504,\n 1488,\n 22880,\n 33024,\n 13680,\n 37952,\n 37968,\n 24080,\n 2128,\n 4752,\n 4784,\n 12752,\n 13008,\n 13152,\n 19328,\n 8912,\n 10688,\n 10720,\n 240,\n 24336,\n 24384,\n 36432,\n 1552,\n 7600,\n 3680,\n 832,\n 896,\n 13648,\n 21856,\n 6656,\n 1280,\n 3024,\n 24096,\n 16608,\n 1536,\n 11280,\n 1536,\n 1520,\n 1504,\n 22864,\n 33008,\n 13696,\n 37936,\n 37952,\n 24096,\n 2112,\n 4736,\n 4768,\n 12768,\n 144,\n 6320,\n 21920,\n 2320,\n 2288,\n 12768,\n 11328,\n 11376,\n 23424,\n 11456,\n 20608,\n 16688,\n 12176,\n 12112,\n 640,\n 34864,\n 6352,\n 14288,\n 9984,\n 37104,\n 29616,\n 11472,\n 24288,\n 14544,\n 14528,\n 14512,\n 9856,\n 20000,\n 26704,\n 24928,\n 24944,\n 37104,\n 10896,\n 8272,\n 8240,\n 25776,\n 6176,\n 22064,\n 2464,\n 2432,\n 12912,\n 11184,\n 11232,\n 23280,\n 11600,\n 20752,\n 16832,\n 12320,\n 12256,\n 496,\n 35008,\n 6496,\n 14432,\n 10128,\n 37248,\n 29760,\n 11616,\n 24432,\n 14688,\n 14672,\n 14656,\n 9712,\n 19856,\n 26848,\n 24784,\n 24800,\n 37248,\n 11040,\n 8416,\n 8384,\n 25920,\n 28240,\n 8640,\n 8608,\n 19088,\n 5008,\n 5056,\n 17104,\n 17776,\n 26928,\n 23008,\n 18496,\n 18432,\n 5680,\n 41184,\n 12672,\n 20608,\n 16304,\n 43424,\n 35936,\n 17792,\n 30608,\n 20864,\n 20848,\n 20832,\n 3536,\n 13680,\n 33024,\n 18608,\n 18624,\n 43424,\n 17216,\n 14592,\n 14560,\n 32096,\n 19600,\n 19632,\n 9152,\n 33248,\n 33296,\n 45344,\n 10464,\n 1312,\n 5232,\n 9744,\n 9808,\n 22560,\n 12944,\n 15568,\n 7632,\n 11936,\n 15184,\n 7696,\n 10448,\n 2368,\n 7376,\n 7392,\n 7408,\n 31776,\n 41920,\n 4784,\n 46848,\n 46864,\n 15184,\n 11024,\n 13648,\n 13680,\n 3856,\n 32,\n 10448,\n 13648,\n 13696,\n 25744,\n 9136,\n 18288,\n 14368,\n 9856,\n 9792,\n 2960,\n 32544,\n 4032,\n 11968,\n 7664,\n 34784,\n 27296,\n 9152,\n 21968,\n 12224,\n 12208,\n 12192,\n 12176,\n 22320,\n 24384,\n 27248,\n 27264,\n 34784,\n 8576,\n 5952,\n 5920,\n 23456,\n 10480,\n 13616,\n 13664,\n 25712,\n 9168,\n 18320,\n 14400,\n 9888,\n 9824,\n 2928,\n 32576,\n 4064,\n 12000,\n 7696,\n 34816,\n 27328,\n 9184,\n 22000,\n 12256,\n 12240,\n 12224,\n 12144,\n 22288,\n 24416,\n 27216,\n 27232,\n 34816,\n 8608,\n 5984,\n 5952,\n 23488,\n 24096,\n 24144,\n 36192,\n 1312,\n 7840,\n 3920,\n 592,\n 656,\n 13408,\n 22096,\n 6416,\n 1520,\n 2784,\n 24336,\n 16848,\n 1296,\n 11520,\n 1776,\n 1760,\n 1744,\n 22624,\n 32768,\n 13936,\n 37696,\n 37712,\n 24336,\n 1872,\n 4496,\n 4528,\n 13008,\n 48,\n 12096,\n 22784,\n 31936,\n 28016,\n 23504,\n 23440,\n 10688,\n 46192,\n 17680,\n 25616,\n 21312,\n 48432,\n 40944,\n 22800,\n 35616,\n 25872,\n 25856,\n 25840,\n 1472,\n 8672,\n 38032,\n 13600,\n 13616,\n 48432,\n 22224,\n 19600,\n 19568,\n 37104,\n 12048,\n 22832,\n 31984,\n 28064,\n 23552,\n 23488,\n 10736,\n 46240,\n 17728,\n 25664,\n 21360,\n 48480,\n 40992,\n 22848,\n 35664,\n 25920,\n 25904,\n 25888,\n 1520,\n 8624,\n 38080,\n 13552,\n 13568,\n 48480,\n 22272,\n 19648,\n 19616,\n 37152,\n 34880,\n 44032,\n 40112,\n 35600,\n 35536,\n 22784,\n 58288,\n 29776,\n 37712,\n 33408,\n 60528,\n 53040,\n 34896,\n 47712,\n 37968,\n 37952,\n 37936,\n 13568,\n 3424,\n 50128,\n 1504,\n 1520,\n 60528,\n 34320,\n 31696,\n 31664,\n 49200,\n 9152,\n 5232,\n 720,\n 656,\n 12096,\n 23408,\n 5104,\n 2832,\n 1472,\n 25648,\n 18160,\n 16,\n 12832,\n 3088,\n 3072,\n 3056,\n 21312,\n 31456,\n 15248,\n 36384,\n 36400,\n 25648,\n 560,\n 3184,\n 3216,\n 14320,\n 3920,\n 8432,\n 8496,\n 21248,\n 14256,\n 14256,\n 6320,\n 10624,\n 16496,\n 9008,\n 9136,\n 3680,\n 6064,\n 6080,\n 6096,\n 30464,\n 40608,\n 6096,\n 45536,\n 45552,\n 16496,\n 9712,\n 12336,\n 12368,\n 5168,\n 4512,\n 4576,\n 17328,\n 18176,\n 10336,\n 2400,\n 6704,\n 20416,\n 12928,\n 5216,\n 7600,\n 2144,\n 2160,\n 2176,\n 26544,\n 36688,\n 10016,\n 41616,\n 41632,\n 20416,\n 5792,\n 8416,\n 8448,\n 9088,\n 64,\n 12816,\n 22688,\n 5824,\n 2112,\n 2192,\n 24928,\n 17440,\n 704,\n 12112,\n 2368,\n 2352,\n 2336,\n 22032,\n 32176,\n 14528,\n 37104,\n 37120,\n 24928,\n 1280,\n 3904,\n 3936,\n 13600,\n 12752,\n 22752,\n 5760,\n 2176,\n 2128,\n 24992,\n 17504,\n 640,\n 12176,\n 2432,\n 2416,\n 2400,\n 21968,\n 32112,\n 14592,\n 37040,\n 37056,\n 24992,\n 1216,\n 3840,\n 3872,\n 13664,\n 35504,\n 6992,\n 14928,\n 10624,\n 37744,\n 30256,\n 12112,\n 24928,\n 15184,\n 15168,\n 15152,\n 9216,\n 19360,\n 27344,\n 24288,\n 24304,\n 37744,\n 11536,\n 8912,\n 8880,\n 26416,\n 28512,\n 20576,\n 24880,\n 2240,\n 5248,\n 23392,\n 10576,\n 20320,\n 20336,\n 20352,\n 44720,\n 54864,\n 8160,\n 59792,\n 59808,\n 2240,\n 23968,\n 26592,\n 26624,\n 9088,\n 7936,\n 3632,\n 30752,\n 23264,\n 5120,\n 17936,\n 8192,\n 8176,\n 8160,\n 16208,\n 26352,\n 20352,\n 31280,\n 31296,\n 30752,\n 4544,\n 1920,\n 1888,\n 19424,\n 4304,\n 22816,\n 15328,\n 2816,\n 10000,\n 256,\n 240,\n 224,\n 24144,\n 34288,\n 12416,\n 39216,\n 39232,\n 22816,\n 3392,\n 6016,\n 6048,\n 11488,\n 27120,\n 19632,\n 1488,\n 14304,\n 4560,\n 4544,\n 4528,\n 19840,\n 29984,\n 16720,\n 34912,\n 34928,\n 27120,\n 912,\n 1712,\n 1744,\n 15792,\n 7488,\n 25632,\n 12816,\n 22560,\n 22576,\n 22592,\n 46960,\n 57104,\n 10400,\n 62032,\n 62048,\n 0,\n 26208,\n 28832,\n 28864,\n 11328,\n 18144,\n 5328,\n 15072,\n 15088,\n 15104,\n 39472,\n 49616,\n 2912,\n 54544,\n 54560,\n 7488,\n 18720,\n 21344,\n 21376,\n 3840,\n 12816,\n 3072,\n 3056,\n 3040,\n 21328,\n 31472,\n 15232,\n 36400,\n 36416,\n 25632,\n 576,\n 3200,\n 3232,\n 14304,\n 9744,\n 9760,\n 9776,\n 34144,\n 44288,\n 2416,\n 49216,\n 49232,\n 12816,\n 13392,\n 16016,\n 16048,\n 1488,\n 16,\n 32,\n 24400,\n 34544,\n 12160,\n 39472,\n 39488,\n 22560,\n 3648,\n 6272,\n 6304,\n 11232,\n 16,\n 24384,\n 34528,\n 12176,\n 39456,\n 39472,\n 22576,\n 3632,\n 6256,\n 6288,\n 11248,\n 24368,\n 34512,\n 12192,\n 39440,\n 39456,\n 22592,\n 3616,\n 6240,\n 6272,\n 11264,\n 10144,\n 36560,\n 15072,\n 15088,\n 46960,\n 20752,\n 18128,\n 18096,\n 35632,\n 46704,\n 4928,\n 4944,\n 57104,\n 30896,\n 28272,\n 28240,\n 45776,\n 51632,\n 51648,\n 10400,\n 15808,\n 18432,\n 18464,\n 928,\n 16,\n 62032,\n 35824,\n 33200,\n 33168,\n 50704,\n 62048,\n 35840,\n 33216,\n 33184,\n 50720,\n 26208,\n 28832,\n 28864,\n 11328,\n 2624,\n 2656,\n 14880,\n 32,\n 17504,\n 17536]"
     },
     "execution_count": 98,
     "metadata": {},
     "output_type": "execute_result"
    }
   ],
   "source": [
    "sequence_number_distances"
   ],
   "metadata": {
    "collapsed": false,
    "ExecuteTime": {
     "end_time": "2023-08-05T19:38:35.384820100Z",
     "start_time": "2023-08-05T19:38:35.356323300Z"
    }
   }
  },
  {
   "cell_type": "code",
   "execution_count": null,
   "outputs": [],
   "source": [],
   "metadata": {
    "collapsed": false
   }
  }
 ],
 "metadata": {
  "kernelspec": {
   "display_name": "Python 3",
   "language": "python",
   "name": "python3"
  },
  "language_info": {
   "codemirror_mode": {
    "name": "ipython",
    "version": 2
   },
   "file_extension": ".py",
   "mimetype": "text/x-python",
   "name": "python",
   "nbconvert_exporter": "python",
   "pygments_lexer": "ipython2",
   "version": "2.7.6"
  }
 },
 "nbformat": 4,
 "nbformat_minor": 0
}
